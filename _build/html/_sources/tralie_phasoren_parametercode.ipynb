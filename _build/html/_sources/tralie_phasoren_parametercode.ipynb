{
 "cells": [
  {
   "cell_type": "markdown",
   "id": "b54f4ee0-3b42-4008-b316-27b175c3bc6d",
   "metadata": {
    "editable": true,
    "slideshow": {
     "slide_type": ""
    },
    "tags": []
   },
   "source": [
    "# interferentiepatroon tralie en visualisatie met phasoren met aan te passen parameters\n",
    "Dit programma berekent het interferentiepatroon van een tralie. In de simulatie kan de het aantal spleten N, de spleetbreedte b, de afstand tussen de spleten a en de golflengte van het licht worden ingesteld. Daarnaast wordt dit patroon gevisualiseerd door gebruik te maken van phasoren. Elke Phasor representeert het elektrisch veld van één spleet."
   ]
  },
  {
   "cell_type": "code",
   "execution_count": 1,
   "id": "fbefe34f-11db-4421-bb78-acf85e3186d4",
   "metadata": {
    "editable": true,
    "slideshow": {
     "slide_type": ""
    },
    "tags": [
     "thebe-remove-input-init"
    ]
   },
   "outputs": [],
   "source": [
    "# instellen van programma\n",
    "import math\n",
    "import numpy as np              #importeer bibliotheek numpy\n",
    "import matplotlib.pyplot as plt #importeer matplot\n",
    "import cmath          #gebruik complexe getallen\n",
    "import ipywidgets as widgets\n",
    "from IPython.display import display, clear_output\n",
    "from ipywidgets import Output"
   ]
  },
  {
   "cell_type": "code",
   "execution_count": 2,
   "id": "5365939b-1288-4bb9-8fa7-92524f9ac3b2",
   "metadata": {
    "editable": true,
    "slideshow": {
     "slide_type": ""
    },
    "tags": [
     "thebe-remove-input-init"
    ]
   },
   "outputs": [],
   "source": [
    "#hier wordt de class Tralie aangemaakt, hier horen ook functies bij die berekeningen doen op dit object\n",
    "class Tralie: \n",
    "    def __init__(self, N, a, b, golflengte, hoek, I_spleten, I_enkelspleet, I_totaal):\n",
    "        self.N = N #aantal spleten\n",
    "        self.a = a #afstand tussen spleten\n",
    "        self.b = b #breedte spleten\n",
    "        self.golflengte = golflengte\n",
    "        self.I_s = 0\n",
    "        self.I_enk = 0\n",
    "        self.I_t = 0\n",
    "         # hoek laten beginnen bij onderkant range, ondergrens = - bovengrens\n",
    "        self.theta = - range_hoek\n",
    "        \n",
    "        #lijsten maken met variabelen\n",
    "        self.hoek = hoek # de lijst 'hoeken' met een beginhoek gemaakt\n",
    "        self.I_spleten = I_spleten # lijst  met waardes voor Intesiteit van multiple spleten gemaakt \n",
    "        self.I_enkelspleet = I_enkelspleet# en Intensiteit van alleen enkelspleet\n",
    "        self.I_totaal = I_totaal # en intensiteit van totale patroon\n",
    "          \n",
    "     \n",
    "    def bereken_Intensiteit(self):\n",
    "        while self.theta < range_hoek:\n",
    "            # eerst beta en alfa uitrekenen\n",
    "            alfa = math.pi/self.golflengte*self.a*math.sin(self.theta)\n",
    "            beta = math.pi/self.golflengte*self.b*math.sin(self.theta)\n",
    "            self.I_s = 1/self.N**2 * (math.sin(self.N*alfa)/math.sin(alfa))**2\n",
    "            self.I_enk = (math.sin(beta)/beta)**2\n",
    "            self.I_t = self.I_s * self.I_enk\n",
    "            \n",
    "            # toevoegen van berekende waarden aan lijsten\n",
    "            self.hoek.append(self.theta)\n",
    "            self.I_spleten.append(self.I_s)\n",
    "            self.I_enkelspleet.append(self.I_enk)\n",
    "            self.I_totaal.append(self.I_t) \n",
    "           \n",
    "            self.theta += d_theta\n",
    " \n",
    "#hier kunnen diverse parameters ingesteld worden er wordt een object van de soort Tralie aangemaakt en er wordt berekend hoe het intensiteitspatroon van deze tralie eruit ziet.\n",
    "def bereken_patroon_tralie(N, a, b, golflengte):\n",
    "   \n",
    "   #lege lijsten aanmaken die meegestuurd worden\n",
    "    hoek = []\n",
    "    I_spleten = []\n",
    "    I_enkelspleet = []\n",
    "    I_totaal = []\n",
    "   \n",
    "    tralie = Tralie(N, a, b, golflengte, hoek, I_spleten, I_enkelspleet, I_totaal)\n",
    "    tralie.bereken_Intensiteit()\n",
    "    return tralie\n",
    "\n",
    "# Functie om de kleur te bepalen op basis van de golflengte\n",
    "def golflengte_naar_kleur(golflengte_nm):\n",
    "    if 380 <= golflengte_nm < 440:\n",
    "        R = -(golflengte_nm - 440) / (440 - 380)\n",
    "        G = 0.0\n",
    "        B = 1.0\n",
    "    elif 440 <= golflengte_nm < 490:\n",
    "        R = 0.0\n",
    "        G = (golflengte_nm - 440) / (490 - 440)\n",
    "        B = 1.0\n",
    "    elif 490 <= golflengte_nm < 510:\n",
    "        R = 0.0\n",
    "        G = 1.0\n",
    "        B = -(golflengte_nm - 510) / (510 - 490)\n",
    "    elif 510 <= golflengte_nm < 580:\n",
    "        R = (golflengte_nm - 510) / (580 - 510)\n",
    "        G = 1.0\n",
    "        B = 0.0\n",
    "    elif 580 <= golflengte_nm < 645:\n",
    "        R = 1.0\n",
    "        G = -(golflengte_nm - 645) / (645 - 580)\n",
    "        B = 0.0\n",
    "    elif 645 <= golflengte_nm <= 700:\n",
    "        R = 1.0\n",
    "        G = 0.0\n",
    "        B = 0.0\n",
    "    else:\n",
    "        R = G = B = 0.0\n",
    "    \n",
    "    return (R, G, B)"
   ]
  },
  {
   "cell_type": "code",
   "execution_count": 3,
   "id": "e05f7e14-8c40-47b2-a970-99b5403793e5",
   "metadata": {
    "editable": true,
    "slideshow": {
     "slide_type": ""
    },
    "tags": [
     "thebe-remove-input-init"
    ]
   },
   "outputs": [],
   "source": [
    "# in dit deel worden functies gedefinieerd die de gegeven plotten.\n",
    "\n",
    "# in deze functies worden de phasors berekend en geplot. Deze functie wordt aangeroepen in de functie update_plot\n",
    "def plot_phasors(N, a, golflengte, hoek_phasors):\n",
    "    phasor_som = 0\n",
    "    phasors = []\n",
    "    #voor alle phasoren wordt de hoek ten opzichte van de vorige phasor berekend, deze worden opgeslagen als complex getal met modulus 1\n",
    "    for i in range(N):\n",
    "        hoek = i * math.sin(hoek_phasors)*a/golflengte*2*math.pi\n",
    "        phasor = cmath.rect(1, hoek)\n",
    "        phasor_som += phasor\n",
    "        phasors.append(phasor)\n",
    "    \n",
    "      # hier wordt een plot met naast elkaar de twee phasoren plots gemaakt\n",
    "    fig, (ax1, ax2) = plt.subplots(1, 2, figsize=(12, 6))\n",
    "    \n",
    "    u = [phasor.real for phasor in phasors]\n",
    "    v = [phasor.imag for phasor in phasors]\n",
    "\n",
    "  #hier worden de losse phasoren van elke spleet getekend\n",
    "    for i in range(len(phasors)):\n",
    "        ax1.quiver(0, 0, u[i], v[i], angles='xy', scale_units='xy', scale=1, color='blue')\n",
    "        \n",
    "      # Teken assenstelsel\n",
    "    max_val = 0.5\n",
    "    ax1.set_xlim(-max_val-1, max_val+1)\n",
    "    ax1.set_ylim(-max_val-1, max_val+1)\n",
    "    ax1.axhline(0, color='black',linewidth=1)\n",
    "    ax1.axvline(0, color='black',linewidth=1)\n",
    "    ax1.set_title('Losse Phasors van de N spleten' )\n",
    "    ax1.grid()\n",
    "    ax1.set_aspect(1, adjustable='box')\n",
    "        \n",
    "    \n",
    "     #hier worden de phasoren van elke spleet kop-staart getekend\n",
    "    start_x, start_y, max_x, max_y = 0, 0, 0, 0\n",
    "    for i in range(len(phasors)):\n",
    "        ax2.quiver(start_x, start_y, u[i], v[i], angles='xy', scale_units='xy', scale=1, color='blue')\n",
    "        start_x += u[i]\n",
    "        start_y += v[i]\n",
    "        max_x = max(max_x, start_x)\n",
    "        max_y = max(max_y, start_y)\n",
    "        \n",
    "    #tekenen van de resulterende phasor\n",
    "    ax2.quiver(0, 0, phasor_som.real, phasor_som.imag, angles='xy', scale_units='xy', scale=1, color='red')\n",
    "\n",
    "      # Teken assenstelsel\n",
    "    max_val = max(max_x, max_y)\n",
    "    ax2.set_xlim(-max_val-1, max_val+1)\n",
    "    ax2.set_ylim(-max_val-1, max_val+1)\n",
    "    ax2.axhline(0, color='black',linewidth=1)\n",
    "    ax2.axvline(0, color='black',linewidth=1)\n",
    "    ax2.set_title('Optellen van Phasors van de N spleten' )\n",
    "    ax2.grid()\n",
    "    ax2.set_aspect(1, adjustable='box')\n",
    "    plt.show()\n",
    "\n",
    "def update_plot(change):\n",
    "    N = slider_N.value\n",
    "    golflengte = slider_golflengte.value * 1E-9\n",
    "    a = slider_a.value * 1E-6\n",
    "    b = a / slider_ab.value\n",
    "    \n",
    "    tralie_start = bereken_patroon_tralie(start_N, start_a * 1E-6, start_b * 1E-6, start_golflengte * 1E-9)\n",
    "    tralie_current_values = bereken_patroon_tralie(N, a, b, golflengte)\n",
    "\n",
    "    lijn_kleur_1 = golflengte_naar_kleur(start_golflengte)\n",
    "    lijn_kleur_2 = golflengte_naar_kleur(slider_golflengte.value)\n",
    "\n",
    "    with output:\n",
    "        clear_output(wait=True)\n",
    "        fig, (ax1) = plt.subplots(figsize=(10, 10))\n",
    "            # hier worden de waardes voor de twee tralies geplot\n",
    "        ax1.plot(tralie_start.hoek, tralie_start.I_totaal, label=f'aantal spleten = {start_N}, a = {start_a:.2f} µm, b = {start_b:.2f} µm, λ = {start_golflengte:.2f} nm', color=lijn_kleur_1, linestyle='dotted')\n",
    "        ax1.plot(tralie_current_values.hoek, tralie_current_values.I_totaal, label=f'aantal spleten = {N}, a = {slider_a.value:.2f} µm, b = {b * 1E6:.2f} µm, λ = {slider_golflengte.value:.2f} nm', color=lijn_kleur_2)\n",
    "          #de vertical lijn die de gekozen waarde voor de hoek aangeeft wordt geplot\n",
    "        ax1.axvline(x=slider_hoek.value, color='black', linestyle='--')\n",
    "        ax1.set_title('Diffractie patroon tralie')\n",
    "        ax1.set_xlabel('hoek (radialen)')\n",
    "        ax1.set_ylabel('relatieve intensiteit')\n",
    "        ax1.set_ylim(bottom=0)\n",
    "        ax1.legend(loc='lower left', bbox_to_anchor=(1, 0.5))\n",
    "        ax1.grid()\n",
    "        ax1.set_aspect(0.5, adjustable='box') #hier wordt de vaste verhouding van tussen de x- en y-as van de plot gegeven\n",
    "        ax1.minorticks_on()\n",
    "        ax1.grid(which='both', linestyle='--', linewidth=0.5)\n",
    "\n",
    "        plt.show()\n",
    "            # Voeg de slider_hoek toe onder de grafiek met I_totaal\n",
    "        display(widgets.HBox([widgets.Label('Hoek (radialen):', layout=widgets.Layout(width='270px')), slider_hoek]))\n",
    "        \n",
    "        #hier worden de phasors getekend en geplot\n",
    "        plot_phasors(N, a, golflengte, slider_hoek.value)\n",
    "  "
   ]
  },
  {
   "cell_type": "code",
   "execution_count": 4,
   "id": "18e949ef-306c-4959-a824-f6cb23770429",
   "metadata": {
    "editable": true,
    "slideshow": {
     "slide_type": ""
    },
    "tags": []
   },
   "outputs": [],
   "source": [
    "#hier begint het programma, er worden eerst een aantal parameters ingesteld\n",
    "# instellen hoek en stappen in hoek\n",
    "d_theta = 0.0001\n",
    "range_hoek = 0.2 #begin en eindhoek in radialen\n",
    "\n",
    "#standaard waarden voor N, a, b en golflengte meegeven, deze wordt als standaard weergegeven in de plot naast de plot\n",
    "# met waardes die je in de sliders kunt instellen\n",
    "start_N= 2\n",
    "start_a = 6\n",
    "start_golflengte = 620\n",
    "start_ab = 3\n",
    "start_b = start_a/start_ab"
   ]
  },
  {
   "cell_type": "code",
   "execution_count": 5,
   "id": "67138ac3-4b79-4fbb-92b2-81938bd1b624",
   "metadata": {
    "editable": true,
    "slideshow": {
     "slide_type": ""
    },
    "tags": [
     "thebe-remove-input-init"
    ]
   },
   "outputs": [
    {
     "data": {
      "application/vnd.jupyter.widget-view+json": {
       "model_id": "92d2f06698e54ec6bc4b11a50f32e059",
       "version_major": 2,
       "version_minor": 0
      },
      "text/plain": [
       "VBox(children=(HBox(children=(Label(value='aantal spleten N:', layout=Layout(width='270px')), IntSlider(value=…"
      ]
     },
     "metadata": {},
     "output_type": "display_data"
    }
   ],
   "source": [
    "\n",
    "\n",
    "# het aantal spleten N later varieren met een slider\n",
    "slider_N = widgets.IntSlider( value=start_N,min=1,max=20, step=1, continuous_update=False)\n",
    "#spleetafstand varieren met slider\n",
    "slider_a = widgets.FloatSlider(value=start_a, min=1, max=10, step=0.5, readout_format='.2f', continuous_update=False)\n",
    "# golflengte varieren met slider\n",
    "slider_golflengte = widgets.FloatSlider(value=start_golflengte, min=400, max=700, step=10, readout_format='.0f', continuous_update=False)\n",
    "# verhouding spleetafstand en spleetbreedte varieren met slider\n",
    "slider_ab = widgets.FloatSlider(value=start_ab, min=2, max=10, step=0.5, readout_format='.1f', continuous_update=False)\n",
    "# slider om de hoek te kiezen\n",
    "slider_hoek = widgets.FloatSlider(value=0, min=-range_hoek, max=range_hoek, step=0.001, readout_format='.3f',continuous_update=False)\n",
    "\n",
    "# Maak een Output widget\n",
    "output = widgets.Output()\n",
    "# gelijk een eerste grafiek tekenen door de functie update_plot aan te roepen \n",
    "update_plot({'new': slider_N.value})\n",
    "\n",
    "#sliders tekenen\n",
    "display(widgets.VBox([widgets.HBox([widgets.Label('aantal spleten N:', layout=widgets.Layout(width='270px')), slider_N]),\n",
    "                      widgets.HBox([widgets.Label('Spleetafstand a (µm):', layout=widgets.Layout(width='270px')), slider_a]),\n",
    "                      widgets.HBox([widgets.Label('Verhouding spleetafstand a/spleetbreedte b:', layout=widgets.Layout(width='270px')), slider_ab]),\n",
    "                      widgets.HBox([widgets.Label('Golflengte (nm):', layout=widgets.Layout(width='270px')), slider_golflengte]),\n",
    "                      output,\n",
    "                      ]))\n",
    "\n",
    "#testen of er een verandering is van de sliders, als dit zo is plots updaten                 \n",
    "slider_N.observe(update_plot, names='value')\n",
    "slider_a.observe(update_plot, names='value')\n",
    "slider_golflengte.observe(update_plot, names='value')\n",
    "slider_ab.observe(update_plot, names='value')\n",
    "slider_hoek.observe(update_plot, names='value')\n"
   ]
  },
  {
   "cell_type": "code",
   "execution_count": null,
   "id": "00c1392c-0b63-4477-89f7-2f3dca2aeb43",
   "metadata": {
    "editable": true,
    "slideshow": {
     "slide_type": ""
    },
    "tags": []
   },
   "outputs": [],
   "source": []
  }
 ],
 "metadata": {
  "kernelspec": {
   "display_name": "Python 3 (ipykernel)",
   "language": "python",
   "name": "python3"
  },
  "language_info": {
   "codemirror_mode": {
    "name": "ipython",
    "version": 3
   },
   "file_extension": ".py",
   "mimetype": "text/x-python",
   "name": "python",
   "nbconvert_exporter": "python",
   "pygments_lexer": "ipython3",
   "version": "3.12.3"
  }
 },
 "nbformat": 4,
 "nbformat_minor": 5
}
